
{
 "cells": [
  {
   "cell_type": "code",
   "execution_count": null,
   "metadata": {},
   "outputs": [],
   "source": [
    "# Import necessary libraries\n",
    "import pandas as pd\n",
    "import matplotlib.pyplot as plt\n",
    "import seaborn as sns\n",
    "\n",
    "# Load the dataset\n",
    "data = pd.read_csv('/content/ipl_data.csv')  # Change path if necessary\n",
    "\n",
    "# Display the first few rows of the dataset\n",
    "data.head()\n",
    "\n",
    "# Check for missing values\n",
    "data.isnull().sum()\n",
    "\n",
    "# Top 10 Run Scorers\n",
    "top_scorers = data.groupby('Player')['Runs'].sum().sort_values(ascending=False).head(10)\n",
    "top_scorers.plot(kind='bar', title=\"Top 10 IPL Run Scorers\")\n",
    "plt.xlabel('Player')\n",
    "plt.ylabel('Total Runs')\n",
    "plt.show()\n",
    "\n",
    "# Top 10 Wicket Takers\n",
    "top_wicket_takers = data.groupby('Player')['Wickets'].sum().sort_values(ascending=False).head(10)\n",
    "top_wicket_takers.plot(kind='bar', title=\"Top 10 IPL Wicket Takers\")\n",
    "plt.xlabel('Player')\n",
    "plt.ylabel('Total Wickets')\n",
    "plt.show()\n",
    "\n",
    "# Number of Wins by Team\n",
    "wins_by_team = data['Winning Team'].value_counts()\n",
    "wins_by_team.plot(kind='bar', title=\"Number of Wins by Each Team\")\n",
    "plt.xlabel('Team')\n",
    "plt.ylabel('Number of Wins')\n",
    "plt.show()\n",
    "\n",
    "# Summary of players (Runs, Wickets, Strike Rate)\n",
    "data['Strike Rate'] = (data['Runs'] / data['Balls']) * 100\n",
    "summary = data.groupby('Player').agg({'Runs': 'sum', 'Wickets': 'sum', 'Strike Rate': 'mean'})\n",
    "summary.head(10)"
   ]
  }
 ],
 "metadata": {
  "kernelspec": {
   "display_name": "Python 3",
   "language": "python",
   "name": "python3"
  },
  "language_info": {
   "codemirror_mode": {
    "name": "ipython",
    "version": 3
   },
   "file_extension": ".py",
   "mimetype": "text/x-python",
   "name": "python",
   "nbconvert_exporter": "python",
   "version": "3.8.5"
  }
 },
 "nbformat": 4,
 "nbformat_minor": 5
}
